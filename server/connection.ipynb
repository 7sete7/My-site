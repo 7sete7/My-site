{
 "cells": [
  {
   "cell_type": "code",
   "execution_count": null,
   "metadata": {},
   "outputs": [],
   "source": [
    "from napkin import response, request\n",
    "from pymongo import MongoClient\n",
    "import os\n",
    "\n",
    "CLIENT_NAME = request.path_params.get(\"CLIENT_NAME\")\n",
    "MONGO_AUTH = os.environ.get(\"MONGO_AUTH\")"
   ]
  },
  {
   "cell_type": "code",
   "execution_count": 67,
   "metadata": {},
   "outputs": [],
   "source": [
    "client = MongoClient(\"mongodb+srv://{}@meusite.hcxhp.mongodb.net/Site?retryWrites=true&w=majority\".format(MONGO_AUTH))\n",
    "db = client.Site\n",
    "\n",
    "Coll = db[CLIENT_NAME]"
   ]
  },
  {
   "cell_type": "code",
   "execution_count": 68,
   "metadata": {},
   "outputs": [
    {
     "name": "stdout",
     "output_type": "stream",
     "text": [
      "[{'_id': 'Metadata', 'logo': 'Eduardo.Viva', 'name': 'Eduardo', 'role': 'UX / UI / Product Designer'}, {'_id': 'Posts', 'data': [{'image': 'https://vignette.wikia.nocookie.net/disney/images/4/41/DoofenshmirtzFull.jpg/revision/latest?cb=20190819173522', 'imageFill': 'cover', 'title': 'Estudo de caso Doof', 'description': 'Identificando oportunidades para capturar Perry o ornitorrinco', 'tags': ['Figma'], 'link': '#'}]}, {'_id': 'Projects', 'data': [{'image': 'https://vignette.wikia.nocookie.net/disney/images/4/41/DoofenshmirtzFull.jpg/revision/latest?cb=20190819173522', 'imageFill': 'cover', 'title': 'Estudo de caso Doof', 'description': 'Identificando oportunidades para capturar Perry o ornitorrinco', 'tags': ['Figma'], 'link': '#'}]}]\n"
     ]
    }
   ],
   "source": [
    "cursor = Coll.find()\n",
    "data = [doc for doc in cursor]\n",
    "\n",
    "print(data)\n"
   ]
  },
  {
   "cell_type": "code",
   "execution_count": 69,
   "metadata": {},
   "outputs": [
    {
     "name": "stdout",
     "output_type": "stream",
     "text": [
      "{'metadata': {'_id': 'Metadata', 'logo': 'Eduardo.Viva', 'name': 'Eduardo', 'role': 'UX / UI / Product Designer'}, 'posts': {'_id': 'Posts', 'data': [{'image': 'https://vignette.wikia.nocookie.net/disney/images/4/41/DoofenshmirtzFull.jpg/revision/latest?cb=20190819173522', 'imageFill': 'cover', 'title': 'Estudo de caso Doof', 'description': 'Identificando oportunidades para capturar Perry o ornitorrinco', 'tags': ['Figma'], 'link': '#'}]}, 'projects': {'_id': 'Projects', 'data': [{'image': 'https://vignette.wikia.nocookie.net/disney/images/4/41/DoofenshmirtzFull.jpg/revision/latest?cb=20190819173522', 'imageFill': 'cover', 'title': 'Estudo de caso Doof', 'description': 'Identificando oportunidades para capturar Perry o ornitorrinco', 'tags': ['Figma'], 'link': '#'}]}}\n"
     ]
    }
   ],
   "source": [
    "import functools\n",
    "\n",
    "def reducer(acc, item):\n",
    "    acc[item.get(\"_id\").lower()] = item\n",
    "    return acc\n",
    "\n",
    "reduced = functools.reduce(reducer, data, {})\n",
    "\n",
    "print(reduced)\n"
   ]
  }
 ],
 "metadata": {
  "interpreter": {
   "hash": "31f2aee4e71d21fbe5cf8b01ff0e069b9275f58929596ceb00d14d90e3e16cd6"
  },
  "kernelspec": {
   "display_name": "Python 3.8.5 64-bit",
   "name": "python3"
  },
  "language_info": {
   "name": "python",
   "version": ""
  },
  "metadata": {
   "interpreter": {
    "hash": "31f2aee4e71d21fbe5cf8b01ff0e069b9275f58929596ceb00d14d90e3e16cd6"
   }
  },
  "orig_nbformat": 2
 },
 "nbformat": 4,
 "nbformat_minor": 2
}